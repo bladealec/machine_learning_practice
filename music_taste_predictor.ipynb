{
 "cells": [
  {
   "cell_type": "code",
   "execution_count": null,
   "id": "00b2bd29",
   "metadata": {},
   "outputs": [],
   "source": [
    "import pandas as pd\n",
    "from sklearn.tree import DecisionTreeClassifier\n",
    "from sklearn.model_selection import train_test_split\n",
    "from sklearn.metrics import accuracy_score\n",
    "import joblib\n",
    "from sklearn import tree"
   ]
  },
  {
   "cell_type": "markdown",
   "id": "81fadb28",
   "metadata": {},
   "source": [
    "#### Importing music taste data"
   ]
  },
  {
   "cell_type": "code",
   "execution_count": null,
   "id": "0a787d85",
   "metadata": {},
   "outputs": [],
   "source": [
    "music_df = pd.read_csv('../machine_learning_practice_data/music.csv')"
   ]
  },
  {
   "cell_type": "code",
   "execution_count": null,
   "id": "2aa20dfd",
   "metadata": {
    "scrolled": true
   },
   "outputs": [],
   "source": [
    "music_df"
   ]
  },
  {
   "cell_type": "markdown",
   "id": "1db4a367",
   "metadata": {},
   "source": [
    "#### Creating inputs and outputs. The input will be the age and gender of the music listener while the output will be their predicted favorite genre."
   ]
  },
  {
   "cell_type": "code",
   "execution_count": null,
   "id": "17cdc5f7",
   "metadata": {},
   "outputs": [],
   "source": [
    "x = music_df.drop(columns = ['genre'])\n",
    "y = music_df['genre']"
   ]
  },
  {
   "cell_type": "markdown",
   "id": "9cd15f66",
   "metadata": {},
   "source": [
    "#### Setting up and testing the prediction model"
   ]
  },
  {
   "cell_type": "code",
   "execution_count": null,
   "id": "7d134a2a",
   "metadata": {},
   "outputs": [],
   "source": [
    "model = DecisionTreeClassifier()\n",
    "model.fit(x, y)\n",
    "\n",
    "# predicting a 21 year old male's and 22 year old female's favorite music genres\n",
    "predictions = model.predict([ [21, 1], [22, 0] ])\n",
    "print('21 male:', predictions[0])\n",
    "print('22 female:', predictions[1])"
   ]
  },
  {
   "cell_type": "markdown",
   "id": "50974cbf",
   "metadata": {},
   "source": [
    "#### Training the model and measuring the models's accuracy"
   ]
  },
  {
   "cell_type": "code",
   "execution_count": null,
   "id": "20328355",
   "metadata": {},
   "outputs": [],
   "source": [
    "#allocating 20% of the data for testing and 80% for training\n",
    "x_train, x_test, y_train, y_test = train_test_split(x ,y, test_size = 0.2)"
   ]
  },
  {
   "cell_type": "code",
   "execution_count": null,
   "id": "a23f4e6a",
   "metadata": {},
   "outputs": [],
   "source": [
    "model.fit(x_train, y_train)\n",
    "predictions = model.predict(x_test)\n",
    "\n",
    "score = accuracy_score(y_test, predictions)\n",
    "score"
   ]
  },
  {
   "cell_type": "markdown",
   "id": "91cb1f4b",
   "metadata": {},
   "source": [
    "#### Creating a persitant model so it doesn't have to retrain everytime we want a prediction"
   ]
  },
  {
   "cell_type": "code",
   "execution_count": null,
   "id": "47fe9084",
   "metadata": {},
   "outputs": [],
   "source": [
    "joblib.dump(model, 'music-predictor.joblib')"
   ]
  },
  {
   "cell_type": "code",
   "execution_count": null,
   "id": "d098d66e",
   "metadata": {},
   "outputs": [],
   "source": [
    "model = joblib.load('music-predictor.joblib')\n",
    "prediction = model.predict([ [21, 1] ])\n",
    "print('21 male:', prediction)"
   ]
  },
  {
   "cell_type": "markdown",
   "id": "431f761c",
   "metadata": {},
   "source": [
    "#### Visualizing the decision tree"
   ]
  },
  {
   "cell_type": "code",
   "execution_count": null,
   "id": "86bbee6b",
   "metadata": {},
   "outputs": [],
   "source": [
    "tree.export_graphviz(model, out_file = 'music-predictor.dot', feature_names = ['age', 'gender'],\n",
    "                    class_names = sorted(music_df.genre.unique()), label = 'all',\n",
    "                    rounded = True, filled = True)"
   ]
  },
  {
   "cell_type": "code",
   "execution_count": null,
   "id": "5232bb33",
   "metadata": {},
   "outputs": [],
   "source": []
  }
 ],
 "metadata": {
  "kernelspec": {
   "display_name": "Python 3 (ipykernel)",
   "language": "python",
   "name": "python3"
  },
  "language_info": {
   "codemirror_mode": {
    "name": "ipython",
    "version": 3
   },
   "file_extension": ".py",
   "mimetype": "text/x-python",
   "name": "python",
   "nbconvert_exporter": "python",
   "pygments_lexer": "ipython3",
   "version": "3.9.13"
  }
 },
 "nbformat": 4,
 "nbformat_minor": 5
}
